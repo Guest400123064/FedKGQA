{
 "metadata": {
  "language_info": {
   "codemirror_mode": {
    "name": "ipython",
    "version": 3
   },
   "file_extension": ".py",
   "mimetype": "text/x-python",
   "name": "python",
   "nbconvert_exporter": "python",
   "pygments_lexer": "ipython3",
   "version": "3.7.9-final"
  },
  "orig_nbformat": 2,
  "kernelspec": {
   "name": "python3",
   "display_name": "Python 3.7.9 64-bit",
   "metadata": {
    "interpreter": {
     "hash": "c2ea6ed944d6425ee8782cf654adb8ea89a16b622c320e18cab62be437316a17"
    }
   }
  }
 },
 "nbformat": 4,
 "nbformat_minor": 2,
 "cells": [
  {
   "cell_type": "code",
   "execution_count": 2,
   "metadata": {},
   "outputs": [],
   "source": [
    "import os\n",
    "import sys\n",
    "sys.path.append(\"..\")\n",
    "\n",
    "import numpy as np\n",
    "import pandas as pd\n",
    "from easydict import EasyDict\n",
    "\n",
    "import torch\n",
    "import torch.nn as nn\n",
    "import torch.nn.functional as F\n",
    "\n",
    "# Self Defined\n",
    "# from src.agents.iris_regular import \n",
    "from data.classification.breast_cancer.load import BreastCancerDataLoader"
   ]
  },
  {
   "cell_type": "code",
   "execution_count": null,
   "metadata": {},
   "outputs": [],
   "source": [
    "CONFIG = EasyDict({\n",
    "    \"data\": {\n",
    "        \"path_dir\": \"../data/classification/breast_cancer\"\n",
    "        , \"path_file\": \"data.csv\"\n",
    "        , \"pct_train\": 0.7\n",
    "        , \"batch_size\": 4\n",
    "    },\n",
    "    \"model\": {\n",
    "        \"n_factor\": 30\n",
    "    },\n",
    "    \"train\": {\n",
    "        \"max_epoch\": 10\n",
    "        , \"lr\": 0.05\n",
    "    }\n",
    "})"
   ]
  }
 ]
}