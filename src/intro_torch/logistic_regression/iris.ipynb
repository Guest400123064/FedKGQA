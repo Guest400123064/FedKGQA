{
 "metadata": {
  "language_info": {
   "codemirror_mode": {
    "name": "ipython",
    "version": 3
   },
   "file_extension": ".py",
   "mimetype": "text/x-python",
   "name": "python",
   "nbconvert_exporter": "python",
   "pygments_lexer": "ipython3",
   "version": "3.7.9-final"
  },
  "orig_nbformat": 2,
  "kernelspec": {
   "name": "python3",
   "display_name": "Python 3.7.9 64-bit ('th-federated': conda)",
   "metadata": {
    "interpreter": {
     "hash": "c2ea6ed944d6425ee8782cf654adb8ea89a16b622c320e18cab62be437316a17"
    }
   }
  }
 },
 "nbformat": 4,
 "nbformat_minor": 2,
 "cells": [
  {
   "source": [
    "## Load Required Libraries"
   ],
   "cell_type": "markdown",
   "metadata": {}
  },
  {
   "cell_type": "code",
   "execution_count": null,
   "metadata": {},
   "outputs": [],
   "source": [
    "import os\n",
    "import sys\n",
    "\n",
    "import torch\n",
    "import torch.nn as nn\n",
    "import torch.nn.functional as F\n",
    "\n",
    "import pandas as pd\n",
    "import numpy as np\n",
    "\n",
    "sys.path.insert(0, \"../../..\")\n",
    "from data.classification.iris.load import IrisDataset\n",
    "from src.intro_torch.logistic_regression.model import LogisticRegression"
   ]
  },
  {
   "source": [
    "## Prepare a PyTorch DataLoader"
   ],
   "cell_type": "markdown",
   "metadata": {}
  },
  {
   "cell_type": "code",
   "execution_count": null,
   "metadata": {},
   "outputs": [],
   "source": [
    "data_set = IrisDataset(\"../../../data/classification/iris/data.csv\")\n",
    "data_loader = torch.utils.data.DataLoader(\n",
    "    data_set\n",
    "    , batch_size=16\n",
    "    , shuffle=True\n",
    ")"
   ]
  },
  {
   "source": [
    "## Training Setup\n",
    "\n",
    "* Model initialization\n",
    "* Loss function definition\n",
    "* Optimizer initialization"
   ],
   "cell_type": "markdown",
   "metadata": {}
  },
  {
   "cell_type": "code",
   "execution_count": null,
   "metadata": {},
   "outputs": [],
   "source": [
    "model = LogisticRegression(3, 3)\n",
    "loss_fun = nn.NLLLoss()\n",
    "solver = torch.optim.SGD(model.parameters(), lr=0.01)"
   ]
  },
  {
   "cell_type": "code",
   "execution_count": null,
   "metadata": {},
   "outputs": [],
   "source": [
    "for e in range(100):\n",
    "    \n",
    "    batch_loss = 0\n",
    "    for i, (batch_x, batch_y) in enumerate(data_loader):\n",
    "\n",
    "        solver.zero_grad()\n",
    "        pred = model.forward(batch_x)\n",
    "\n",
    "        loss = loss_fun(pred, batch_y)\n",
    "        loss.backward()\n",
    "\n",
    "        batch_loss += loss\n",
    "        solver.step()\n",
    "\n",
    "    if ((e + 1) % 10 == 0):\n",
    "        print(f\"{e + 1}\\t{batch_loss / batch_x.shape[0]}\")\n"
   ]
  },
  {
   "cell_type": "code",
   "execution_count": null,
   "metadata": {},
   "outputs": [],
   "source": []
  }
 ]
}