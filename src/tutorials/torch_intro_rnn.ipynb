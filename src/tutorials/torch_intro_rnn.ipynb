{
 "metadata": {
  "language_info": {
   "codemirror_mode": {
    "name": "ipython",
    "version": 3
   },
   "file_extension": ".py",
   "mimetype": "text/x-python",
   "name": "python",
   "nbconvert_exporter": "python",
   "pygments_lexer": "ipython3",
   "version": "3.7.9-final"
  },
  "orig_nbformat": 2,
  "kernelspec": {
   "name": "python3",
   "display_name": "Python 3.7.9 64-bit ('th-federated': conda)",
   "metadata": {
    "interpreter": {
     "hash": "c2ea6ed944d6425ee8782cf654adb8ea89a16b622c320e18cab62be437316a17"
    }
   }
  }
 },
 "nbformat": 4,
 "nbformat_minor": 2,
 "cells": [
  {
   "cell_type": "code",
   "execution_count": 1,
   "metadata": {},
   "outputs": [],
   "source": [
    "import torch\n",
    "import torch.nn as nn\n",
    "import torch.nn.functional as F"
   ]
  },
  {
   "cell_type": "code",
   "execution_count": 52,
   "metadata": {},
   "outputs": [
    {
     "output_type": "execute_result",
     "data": {
      "text/plain": [
       "torch.Size([1, 8, 3])"
      ]
     },
     "metadata": {},
     "execution_count": 52
    }
   ],
   "source": [
    "# This is a sequence of length 9\n",
    "seq_single = torch.tensor([[\n",
    "    [1, 2, 1],  # <-- Head of seq\n",
    "    [3, 2, 1],  # <-- Each step with input dim being 3\n",
    "    [4, 4, 3],\n",
    "    [0, 2, 1],\n",
    "    [3, 1, 1],\n",
    "    [5, 2, 1],\n",
    "    [1, 9, 1],\n",
    "    [0, 0, 1]   # <-- Tail of seq\n",
    "]], dtype=torch.float)\n",
    "\n",
    "# Thus, this is a batch with only ONE sample\n",
    "#   Batch_Size x Seq_Length x Else (e.g., dim of word vector)\n",
    "seq_single.size()"
   ]
  },
  {
   "cell_type": "code",
   "execution_count": 70,
   "metadata": {},
   "outputs": [],
   "source": [
    "# Initialize a basic rnn model\n",
    "rnn_single = nn.RNN(\n",
    "    input_size=3        # <-- 3D input, e.g. each word vec is of dim 3\n",
    "    , hidden_size=1     # <-- Compress the input to a scalar\n",
    "    , num_layers=3      # <-- Obviously, 3 hidden layers\n",
    "    , batch_first=True  # <-- Default to false; in our sample, the first data dimension is the batch dim\n",
    ")\n",
    "\n",
    "# Feed in our batch\n",
    "out_single, hid_single = rnn_single(seq_single)"
   ]
  },
  {
   "cell_type": "code",
   "execution_count": 71,
   "metadata": {},
   "outputs": [
    {
     "output_type": "execute_result",
     "data": {
      "text/plain": [
       "tensor([[[0.0486],\n",
       "         [0.0763],\n",
       "         [0.0752],\n",
       "         [0.1037],\n",
       "         [0.1004],\n",
       "         [0.1343],\n",
       "         [0.1768],\n",
       "         [0.1569]]], grad_fn=<TransposeBackward1>)"
      ]
     },
     "metadata": {},
     "execution_count": 71
    }
   ],
   "source": [
    "# This would be the output of the last hidden layer at EACH STEP\n",
    "out_single"
   ]
  },
  {
   "cell_type": "code",
   "execution_count": 72,
   "metadata": {},
   "outputs": [
    {
     "output_type": "execute_result",
     "data": {
      "text/plain": [
       "tensor([[[-0.8551]],\n",
       "\n",
       "        [[-0.9824]],\n",
       "\n",
       "        [[ 0.1569]]], grad_fn=<StackBackward>)"
      ]
     },
     "metadata": {},
     "execution_count": 72
    }
   ],
   "source": [
    "# The out put of EACH of the three hidden layers at the LAST STEP\n",
    "#   Note how the output of last element corresponds to that of <out_single>\n",
    "hid_single"
   ]
  },
  {
   "cell_type": "code",
   "execution_count": null,
   "metadata": {},
   "outputs": [],
   "source": []
  }
 ]
}