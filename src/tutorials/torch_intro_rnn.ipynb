{
 "metadata": {
  "language_info": {
   "codemirror_mode": {
    "name": "ipython",
    "version": 3
   },
   "file_extension": ".py",
   "mimetype": "text/x-python",
   "name": "python",
   "nbconvert_exporter": "python",
   "pygments_lexer": "ipython3",
   "version": "3.7.9-final"
  },
  "orig_nbformat": 2,
  "kernelspec": {
   "name": "python3",
   "display_name": "Python 3.7.9 64-bit ('th-federated': conda)",
   "metadata": {
    "interpreter": {
     "hash": "c2ea6ed944d6425ee8782cf654adb8ea89a16b622c320e18cab62be437316a17"
    }
   }
  }
 },
 "nbformat": 4,
 "nbformat_minor": 2,
 "cells": [
  {
   "cell_type": "code",
   "execution_count": 3,
   "metadata": {},
   "outputs": [],
   "source": [
    "import torch\n",
    "import torch.nn as nn\n",
    "import torch.nn.functional as F"
   ]
  },
  {
   "source": [
    "## Simple Example: Batch with single sequence"
   ],
   "cell_type": "markdown",
   "metadata": {}
  },
  {
   "cell_type": "code",
   "execution_count": 5,
   "metadata": {},
   "outputs": [
    {
     "output_type": "execute_result",
     "data": {
      "text/plain": [
       "torch.Size([1, 8, 3])"
      ]
     },
     "metadata": {},
     "execution_count": 5
    }
   ],
   "source": [
    "# This is batch consisted of a single sequence of length 9\n",
    "seq_single = torch.tensor([\n",
    "    [[1, 2, 1],  # <-- Head of seq\n",
    "     [3, 2, 1],  # <-- Each step with input dim being 3\n",
    "     [4, 4, 3],\n",
    "     [0, 2, 1],\n",
    "     [3, 1, 1],\n",
    "     [5, 2, 1],\n",
    "     [1, 9, 1],\n",
    "     [0, 0, 1]]  # <-- Tail of seq\n",
    "], dtype=torch.float)\n",
    "\n",
    "# Thus, this is a batch with only ONE sample\n",
    "#   Batch_Size x Seq_Length x Else (e.g., dim of word vector)\n",
    "seq_single.size()"
   ]
  },
  {
   "cell_type": "code",
   "execution_count": 34,
   "metadata": {},
   "outputs": [],
   "source": [
    "# Initialize a basic rnn model\n",
    "rnn_single = nn.RNN(\n",
    "    input_size=3        # <-- 3D input, e.g. each word vec is of dim 3\n",
    "    , hidden_size=2     # <-- Compress the input to a scalar\n",
    "    , num_layers=3      # <-- Obviously, 3 hidden layers\n",
    "    , batch_first=True  # <-- Default to false; in our sample, the first data dimension is the batch dim\n",
    ")\n",
    "\n",
    "# Feed in our batch\n",
    "out_single, hid_single = rnn_single(seq_single)"
   ]
  },
  {
   "cell_type": "code",
   "execution_count": 35,
   "metadata": {},
   "outputs": [
    {
     "output_type": "execute_result",
     "data": {
      "text/plain": [
       "tensor([[[0.4499, 0.2454],\n",
       "         [0.6372, 0.2465],\n",
       "         [0.3604, 0.3726],\n",
       "         [0.4987, 0.4451],\n",
       "         [0.6867, 0.3746],\n",
       "         [0.4908, 0.4466],\n",
       "         [0.3319, 0.5678],\n",
       "         [0.7690, 0.3942]]], grad_fn=<TransposeBackward1>)"
      ]
     },
     "metadata": {},
     "execution_count": 35
    }
   ],
   "source": [
    "# This would be the output of the last hidden layer at EACH STEP\n",
    "out_single"
   ]
  },
  {
   "cell_type": "code",
   "execution_count": 36,
   "metadata": {},
   "outputs": [
    {
     "output_type": "execute_result",
     "data": {
      "text/plain": [
       "tensor([[[-0.6758, -0.7543]],\n",
       "\n",
       "        [[-0.5398, -0.4446]],\n",
       "\n",
       "        [[ 0.7690,  0.3942]]], grad_fn=<StackBackward>)"
      ]
     },
     "metadata": {},
     "execution_count": 36
    }
   ],
   "source": [
    "# The out put of EACH of the three hidden layers at the LAST STEP (single dir)\n",
    "#   The shape would be Num_Hidden_Layer x Batch_Size x Dim_Hidden\n",
    "#   Note how the output of last element corresponds to that of <out_single>\n",
    "hid_single"
   ]
  },
  {
   "cell_type": "code",
   "execution_count": 42,
   "metadata": {},
   "outputs": [
    {
     "output_type": "stream",
     "name": "stdout",
     "text": [
      "tensor([0.7690, 0.3942], grad_fn=<SliceBackward>)\ntensor([[0.7690, 0.3942]], grad_fn=<SelectBackward>)\n"
     ]
    }
   ],
   "source": [
    "# So this returns the LAST (3rd) LAYER's OUTPUT of the current batch's FIRST ELEMENT with ALL dimensions\n",
    "print(hid_single[-1, 0, :])  # <-- Returns ONLY the first sample\n",
    "print(hid_single[-1])        # <-- Returns the WHOLE batch"
   ]
  },
  {
   "source": [
    "## A Slightly More Complex One: Multiple Sequences"
   ],
   "cell_type": "markdown",
   "metadata": {}
  },
  {
   "source": [
    "# Let's do a size-4 batch\n",
    "seq_multi = torch.tensor([\n",
    "    # Seq 1\n",
    "    [[1, 2],   # <-- Head seq 1\n",
    "     [3, 2],\n",
    "     [4, 4]],  # <-- Tail seq 1\n",
    "\n",
    "    # Seq 2\n",
    "    [[0, 2],\n",
    "     [1, 3],\n",
    "     [0, 2]],\n",
    "    \n",
    "    # Seq 3\n",
    "    [[3, 1],\n",
    "     [5, 2],\n",
    "     [1, 9]],\n",
    "    \n",
    "    # Seq 4\n",
    "    [[0, 0],   # <-- Head seq 4\n",
    "     [3, 1],\n",
    "     [2, 0]]   # <-- Tail seq 4\n",
    "], dtype=torch.float)\n",
    "\n",
    "# Batch_Size x Seq_Length x Else\n",
    "#   Therefore 4 x 3 x 2\n",
    "seq_multi.size()"
   ],
   "cell_type": "code",
   "metadata": {},
   "execution_count": 49,
   "outputs": [
    {
     "output_type": "execute_result",
     "data": {
      "text/plain": [
       "torch.Size([4, 3, 2])"
      ]
     },
     "metadata": {},
     "execution_count": 49
    }
   ]
  },
  {
   "source": [
    "Note here I intentionally set the sequences to be of equal lengths, which is **NOT TRUE** in most cases. This is because a mini-batch of samples are essentially represented as a `torch.tensor` instead of a `list`. Later in this tutorial I will show the usage of `torch.nn.utils.rnn.pad_sequence` to make the sequences of equal length."
   ],
   "cell_type": "markdown",
   "metadata": {}
  },
  {
   "cell_type": "code",
   "execution_count": 50,
   "metadata": {},
   "outputs": [],
   "source": [
    "# Initialize a basic rnn model\n",
    "rnn_multi = nn.RNN(\n",
    "    input_size=2        # <-- 2D input\n",
    "    , hidden_size=2     # <-- Doesn't change dimension\n",
    "    , num_layers=3      \n",
    "    , batch_first=True\n",
    ")\n",
    "\n",
    "# Feed in our batch\n",
    "out_multi, hid_multi = rnn_multi(seq_multi)"
   ]
  },
  {
   "cell_type": "code",
   "execution_count": 51,
   "metadata": {},
   "outputs": [
    {
     "output_type": "execute_result",
     "data": {
      "text/plain": [
       "tensor([[[ 0.7996,  0.5762],\n",
       "         [ 0.7158,  0.3885],\n",
       "         [ 0.7258,  0.3503]],\n",
       "\n",
       "        [[ 0.8350,  0.5161],\n",
       "         [ 0.7691,  0.2316],\n",
       "         [ 0.8361, -0.0117]],\n",
       "\n",
       "        [[ 0.7375,  0.6521],\n",
       "         [ 0.6912,  0.5084],\n",
       "         [ 0.7789,  0.3409]],\n",
       "\n",
       "        [[ 0.8241,  0.5449],\n",
       "         [ 0.6293,  0.4592],\n",
       "         [ 0.7589,  0.4235]]], grad_fn=<TransposeBackward1>)"
      ]
     },
     "metadata": {},
     "execution_count": 51
    }
   ],
   "source": [
    "# Since the seq length is three, we have a collection of length-3 outputs\n",
    "out_multi"
   ]
  },
  {
   "cell_type": "code",
   "execution_count": 52,
   "metadata": {},
   "outputs": [
    {
     "output_type": "execute_result",
     "data": {
      "text/plain": [
       "tensor([[[ 0.9260,  0.8400],\n",
       "         [ 0.1617,  0.7666],\n",
       "         [ 0.8454,  0.9899],\n",
       "         [ 0.4740,  0.1308]],\n",
       "\n",
       "        [[ 0.0110, -0.3907],\n",
       "         [ 0.3394,  0.0455],\n",
       "         [ 0.0873, -0.2406],\n",
       "         [ 0.1557, -0.4205]],\n",
       "\n",
       "        [[ 0.7258,  0.3503],\n",
       "         [ 0.8361, -0.0117],\n",
       "         [ 0.7789,  0.3409],\n",
       "         [ 0.7589,  0.4235]]], grad_fn=<StackBackward>)"
      ]
     },
     "metadata": {},
     "execution_count": 52
    }
   ],
   "source": [
    "# Note that each row of the last hidden layer's output corresponds to \n",
    "#   the each one of the four sequences' last rows of <out_multi> \n",
    "hid_multi"
   ]
  },
  {
   "cell_type": "code",
   "execution_count": 53,
   "metadata": {},
   "outputs": [
    {
     "output_type": "execute_result",
     "data": {
      "text/plain": [
       "tensor([[ 0.7258,  0.3503],\n",
       "        [ 0.8361, -0.0117],\n",
       "        [ 0.7789,  0.3409],\n",
       "        [ 0.7589,  0.4235]], grad_fn=<SelectBackward>)"
      ]
     },
     "metadata": {},
     "execution_count": 53
    }
   ],
   "source": [
    "# Extract the outputs from last hidden layer (of last time step)\n",
    "hid_multi[-1]"
   ]
  },
  {
   "cell_type": "code",
   "execution_count": 54,
   "metadata": {},
   "outputs": [
    {
     "output_type": "execute_result",
     "data": {
      "text/plain": [
       "tensor([[ 0.7258,  0.3503],\n",
       "        [ 0.8361, -0.0117],\n",
       "        [ 0.7789,  0.3409],\n",
       "        [ 0.7589,  0.4235]], grad_fn=<SelectBackward>)"
      ]
     },
     "metadata": {},
     "execution_count": 54
    }
   ],
   "source": [
    "# Extract the outputs from last hidden layer\n",
    "out_multi[:, -1]"
   ]
  },
  {
   "source": [
    "## Padding\n",
    "\n",
    "TODO"
   ],
   "cell_type": "markdown",
   "metadata": {}
  },
  {
   "cell_type": "code",
   "execution_count": null,
   "metadata": {},
   "outputs": [],
   "source": []
  }
 ]
}