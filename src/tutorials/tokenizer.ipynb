{
 "metadata": {
  "language_info": {
   "codemirror_mode": {
    "name": "ipython",
    "version": 3
   },
   "file_extension": ".py",
   "mimetype": "text/x-python",
   "name": "python",
   "nbconvert_exporter": "python",
   "pygments_lexer": "ipython3",
   "version": "3.7.9-final"
  },
  "orig_nbformat": 2,
  "kernelspec": {
   "name": "python3",
   "display_name": "Python 3.7.9 64-bit ('th-federated': conda)",
   "metadata": {
    "interpreter": {
     "hash": "c2ea6ed944d6425ee8782cf654adb8ea89a16b622c320e18cab62be437316a17"
    }
   }
  }
 },
 "nbformat": 4,
 "nbformat_minor": 2,
 "cells": [
  {
   "source": [
    "# Tokenizing Sentences with [spaCy](https://spacy.io/usage/spacy-101) Package"
   ],
   "cell_type": "markdown",
   "metadata": {}
  },
  {
   "cell_type": "code",
   "execution_count": 1,
   "metadata": {},
   "outputs": [],
   "source": [
    "import re\n",
    "import spacy\n",
    "import torch"
   ]
  },
  {
   "source": [
    "## 1. Quick Example\n",
    "\n",
    "`Apple is looking at buying U.K. startup for $1 billion`\n",
    "\n",
    "Before runing the example we need to download a pre-trained \"parser\" by running:\n",
    "\n",
    "`python -m spacy download en_core_web_sm`\n",
    "\n",
    "Assuming that you have installed the spacy package. Better use `pip install -U spacy`\n",
    "\n",
    "国内安装的话去baidu搜一下手动下载`en_core_web_{sm, md}-版本号.tar.gz`然后用`python -m pip install en_core_web_{sm, md}-版本号.tar.gz`命令安装。安装的时候要改成清华源。Windows的话过程非常恶心，需要管理员权限，最好去搜一下。我最后也不是很确定怎么安装成功的。"
   ],
   "cell_type": "markdown",
   "metadata": {}
  },
  {
   "cell_type": "code",
   "execution_count": 2,
   "metadata": {},
   "outputs": [
    {
     "output_type": "stream",
     "name": "stdout",
     "text": [
      "0th token is: Apple\n1th token is: is\n2th token is: looking\n3th token is: at\n4th token is: buying\n5th token is: U.K.\n6th token is: startup\n7th token is: for\n8th token is: $\n9th token is: 1\n10th token is: billion\n"
     ]
    }
   ],
   "source": [
    "nlp = spacy.load(\"en_core_web_sm\")\n",
    "doc = nlp(\"Apple is looking at buying U.K. startup for $1 billion\")\n",
    "for i, token in enumerate(doc):\n",
    "    print(f\"{i}th token is: {token}\")"
   ]
  },
  {
   "cell_type": "code",
   "execution_count": null,
   "metadata": {},
   "outputs": [],
   "source": []
  }
 ]
}