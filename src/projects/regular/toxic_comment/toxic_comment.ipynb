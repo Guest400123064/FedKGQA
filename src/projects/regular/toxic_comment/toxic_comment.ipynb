{
 "metadata": {
  "language_info": {
   "codemirror_mode": {
    "name": "ipython",
    "version": 3
   },
   "file_extension": ".py",
   "mimetype": "text/x-python",
   "name": "python",
   "nbconvert_exporter": "python",
   "pygments_lexer": "ipython3",
   "version": "3.7.9"
  },
  "orig_nbformat": 2,
  "kernelspec": {
   "name": "python379jvsc74a57bd0c2ea6ed944d6425ee8782cf654adb8ea89a16b622c320e18cab62be437316a17",
   "display_name": "Python 3.7.9 64-bit ('th-federated': conda)"
  }
 },
 "nbformat": 4,
 "nbformat_minor": 2,
 "cells": [
  {
   "cell_type": "code",
   "execution_count": 1,
   "metadata": {},
   "outputs": [],
   "source": [
    "import os\n",
    "import sys\n",
    "\n",
    "import torch\n",
    "import torch.nn as nn\n",
    "import torch.nn.functional as F\n",
    "\n",
    "import numpy as np\n",
    "import pandas as pd\n",
    "from easydict import EasyDict\n",
    "\n",
    "sys.path.append(\"../../../..\")\n",
    "from data.classification.toxic_comments.load import ToxicComtDataLoader\n",
    "from src.graphs.models.toxic_comment import ToxicComtModel\n",
    "from src.graphs.models.word_embedding import WordEmbedding"
   ]
  },
  {
   "cell_type": "code",
   "execution_count": 2,
   "metadata": {},
   "outputs": [],
   "source": [
    "CONFIG = EasyDict({\n",
    "    \"model\": {\n",
    "        \"comment_encoder\": {\n",
    "            \"input_size\": 50,\n",
    "            \"hidden_size\": 32,\n",
    "            \"num_layers\": 3\n",
    "        },\n",
    "        \"output_layer\": {\n",
    "            \"n_factor\": 32,\n",
    "            \"n_target\": 6\n",
    "        }\n",
    "    },\n",
    "    \"embedding\": {\n",
    "        \"path_dir\": \"../../../../data/word_embedding/glove\",\n",
    "        \"path_file\": \"glove.6B.50d.txt\",\n",
    "        \"num_embeddings\": 0,\n",
    "        \"embedding_dim\": 50\n",
    "    },\n",
    "    \"data\": {\n",
    "        \"path_dir\": \"../../../../data/classification/toxic_comments\",\n",
    "        \"path_file\": \"sample.csv\",\n",
    "        \"pct_train\": 0.7,\n",
    "        \"batch_size\": 4,\n",
    "        \"min_freq\": 4\n",
    "    },\n",
    "    \"train\": {\n",
    "        \"lr\": 0.01\n",
    "    }\n",
    "})"
   ]
  },
  {
   "cell_type": "code",
   "execution_count": 3,
   "metadata": {},
   "outputs": [],
   "source": [
    "dataloader = ToxicComtDataLoader(CONFIG.data)"
   ]
  },
  {
   "cell_type": "code",
   "execution_count": 4,
   "metadata": {},
   "outputs": [],
   "source": [
    "batch_x, batch_y = next(iter(dataloader.loader_train))"
   ]
  },
  {
   "cell_type": "code",
   "execution_count": 5,
   "metadata": {},
   "outputs": [],
   "source": [
    "vocab = dataloader.vocab\n",
    "vocab.load_vectors(CONFIG.embedding.path_file, CONFIG.embedding.path_dir)\n"
   ]
  },
  {
   "cell_type": "code",
   "execution_count": 6,
   "metadata": {},
   "outputs": [],
   "source": [
    "temp_embedding = WordEmbedding(CONFIG.embedding)\n",
    "temp_embedding.from_pretrained(vocab.vocab)"
   ]
  },
  {
   "cell_type": "code",
   "execution_count": 7,
   "metadata": {},
   "outputs": [],
   "source": [
    "model = ToxicComtModel(CONFIG.model)"
   ]
  },
  {
   "cell_type": "code",
   "execution_count": 8,
   "metadata": {},
   "outputs": [
    {
     "output_type": "execute_result",
     "data": {
      "text/plain": [
       "tensor([[[0.5490, 0.4890, 0.4564, 0.4723, 0.5040, 0.5266],\n",
       "         [0.5490, 0.4890, 0.4564, 0.4723, 0.5040, 0.5266],\n",
       "         [0.5477, 0.4797, 0.4878, 0.4650, 0.4862, 0.5295],\n",
       "         [0.5490, 0.4890, 0.4564, 0.4723, 0.5040, 0.5266]],\n",
       "\n",
       "        [[0.5704, 0.4562, 0.4919, 0.4703, 0.4580, 0.5788],\n",
       "         [0.5704, 0.4562, 0.4919, 0.4703, 0.4580, 0.5788],\n",
       "         [0.5761, 0.4581, 0.5066, 0.4952, 0.4480, 0.5555],\n",
       "         [0.5704, 0.4562, 0.4919, 0.4703, 0.4580, 0.5788]],\n",
       "\n",
       "        [[0.5351, 0.5203, 0.4247, 0.4617, 0.5108, 0.4931],\n",
       "         [0.5351, 0.5203, 0.4247, 0.4617, 0.5108, 0.4931],\n",
       "         [0.5425, 0.4984, 0.4133, 0.4459, 0.5208, 0.4764],\n",
       "         [0.5351, 0.5203, 0.4247, 0.4617, 0.5108, 0.4931]]],\n",
       "       grad_fn=<SubBackward0>)"
      ]
     },
     "metadata": {},
     "execution_count": 8
    }
   ],
   "source": [
    "model(temp_embedding(batch_x)) - batch_y"
   ]
  },
  {
   "cell_type": "code",
   "execution_count": null,
   "metadata": {},
   "outputs": [],
   "source": []
  }
 ]
}