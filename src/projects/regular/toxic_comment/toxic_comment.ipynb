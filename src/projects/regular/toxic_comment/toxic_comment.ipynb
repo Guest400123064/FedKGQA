{
 "metadata": {
  "language_info": {
   "codemirror_mode": {
    "name": "ipython",
    "version": 3
   },
   "file_extension": ".py",
   "mimetype": "text/x-python",
   "name": "python",
   "nbconvert_exporter": "python",
   "pygments_lexer": "ipython3",
   "version": "3.7.9-final"
  },
  "orig_nbformat": 2,
  "kernelspec": {
   "name": "python3",
   "display_name": "Python 3.7.9 64-bit ('th-federated': conda)",
   "metadata": {
    "interpreter": {
     "hash": "c2ea6ed944d6425ee8782cf654adb8ea89a16b622c320e18cab62be437316a17"
    }
   }
  }
 },
 "nbformat": 4,
 "nbformat_minor": 2,
 "cells": [
  {
   "cell_type": "code",
   "execution_count": 9,
   "metadata": {},
   "outputs": [],
   "source": [
    "import os\n",
    "import sys\n",
    "\n",
    "import torch\n",
    "import torch.nn as nn\n",
    "import torch.nn.functional as F\n",
    "\n",
    "import numpy as np\n",
    "import pandas as pd\n",
    "\n",
    "sys.path.append(\"../../../..\")\n",
    "from data.classification.toxic_comments.load import ToxicComtDataLoader"
   ]
  },
  {
   "cell_type": "code",
   "execution_count": 7,
   "metadata": {},
   "outputs": [],
   "source": [
    "config_data = {\n",
    "    \"path_root\": \"../../../../data/classification/toxic_comments\"\n",
    "    , \"path_data\": \"sample.csv\"\n",
    "    , \"prob_train\": 0.7\n",
    "}\n",
    "\n",
    "config_model = {\n",
    "    \"n_vocab\": None\n",
    "    , \"dim_embed\": 16\n",
    "    , \"idx_pad\": None\n",
    "    , \"n_class\": 2 \n",
    "\n",
    "    , \"dim_rnn_hidden\": 8\n",
    "    , \"n_rnn_layer\": 2\n",
    "}"
   ]
  },
  {
   "cell_type": "code",
   "execution_count": 8,
   "metadata": {},
   "outputs": [],
   "source": [
    "\n",
    "toxic_loader = ToxicComtDataLoader(\n",
    "    config_data.get(\"path_root\")\n",
    "    , config_data.get(\"path_data\")\n",
    "    , config_data.get(\"prob_train\")\n",
    ")\n",
    "\n",
    "config_model[\"n_vocab\"] = len(toxic_loader.dataset.vocab)\n",
    "config_model[\"idx_pad\"] = len(toxic_loader.dataset.vocab.stoi.get(\"<PAD>\"))"
   ]
  },
  {
   "cell_type": "code",
   "execution_count": null,
   "metadata": {},
   "outputs": [],
   "source": [
    "class RNNLogisticRegres(nn.Module):\n",
    "\n",
    "    def __init__(self, config):\n",
    "\n",
    "        super().__init__()\n",
    "        self.config = config\n",
    "\n",
    "        self.embedding = nn.Embedding(\n",
    "            num_embeddings=self.config.get(\"n_vocab\")\n",
    "            , embedding_dim=self.config.get(\"dim_embed\")\n",
    "            , padding_idx=self.config.get(\"idx_pad\")\n",
    "        )\n",
    "\n",
    "        self.rnn = nn.RNN(\n",
    "            input_size=self.config.get(\"dim_embed\")\n",
    "            , hidden_size=self.config.get(\"dim_rnn_hidden\")\n",
    "            , num_layers=self.config.get(\"n_rnn_layer\")\n",
    "            , batch_first=True\n",
    "        )\n",
    "\n",
    "        self.linear = nn.Linear(\n",
    "            in_features=self.config.get(\"dim_rnn_hidden\")\n",
    "            , out_features=self.config.get(\"n_class\")\n",
    "            , bias=True\n",
    "        )\n",
    "        return\n",
    "\n",
    "    def forward(self, x):\n",
    "\n",
    "        batch_size = x.size(0)\n",
    "        \n",
    "        hidden = self.init_hidden(batch_size)\n",
    "        out, hidden = self.rnn(x, hidden)\n",
    "        \n",
    "        out = out.contiguous().view(-1, self.config.get(\"dim_rnn_hidden\"))\n",
    "        out = self.linear(out)\n",
    "        out = F.log_softmax(out, dim=-1)\n",
    "        \n",
    "        return out, hidden\n",
    "\n",
    "    def init_hidden(self, batch_size):\n",
    "\n",
    "        hidden = torch.zeros(\n",
    "            self.config.get(\"n_rnn_layer\")\n",
    "            , batch_size\n",
    "            , self.config.get(\"dim_rnn_hidden\")\n",
    "        )\n",
    "        return hidden"
   ]
  }
 ]
}